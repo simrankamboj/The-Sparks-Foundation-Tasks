{
 "cells": [
  {
   "cell_type": "markdown",
   "id": "d3418fe4",
   "metadata": {},
   "source": [
    " # THE SPARKS FOUNDATION- Data Science & Business Analytics "
   ]
  },
  {
   "cell_type": "markdown",
   "id": "1d718202",
   "metadata": {},
   "source": [
    "### TASK-1 - Prediction using Supervised ML\n",
    "##### Submitted by - SIMRANJEET KAUR"
   ]
  },
  {
   "cell_type": "markdown",
   "id": "eb44644a",
   "metadata": {},
   "source": [
    "##  LINEAR REGRESSION\n"
   ]
  },
  {
   "cell_type": "markdown",
   "id": "bfc7e61a",
   "metadata": {},
   "source": [
    " Linear Regression analysis is used to estimating the relationship between dependent variables and independent variables.The device we use to accomplish the estimation procedure is Linear Regression Line. Therefore, with the help of  linear regression alogrithim we will find line of best fit on the given set of data. Line of best fit is that line which has least error or least difference between the actual  value and estimated value. Here our regression line will be our line of best fit. "
   ]
  },
  {
   "cell_type": "markdown",
   "id": "fa97fe76",
   "metadata": {},
   "source": [
    "## Linear Regression with Python Scikit-Learn Library"
   ]
  },
  {
   "cell_type": "markdown",
   "id": "57184572",
   "metadata": {},
   "source": [
    "We will use python scikit-learn library for machine learning to implement regression function. We will use simple regression model in this task as it involve two variables."
   ]
  },
  {
   "cell_type": "markdown",
   "id": "20cb6d52",
   "metadata": {},
   "source": [
    "### In the regresssion task we  will find percentage of marks that student is expected to score on the basis of number of hours they studied ."
   ]
  },
  {
   "cell_type": "code",
   "execution_count": 2,
   "id": "3c72b853",
   "metadata": {},
   "outputs": [],
   "source": [
    "#Importing all the neccesary libraries for this task\n",
    "import pandas as pd\n",
    "import numpy as np\n",
    "import matplotlib.pyplot as  plt\n",
    "%matplotlib inline"
   ]
  },
  {
   "cell_type": "code",
   "execution_count": 3,
   "id": "e92b6861",
   "metadata": {},
   "outputs": [
    {
     "name": "stdout",
     "output_type": "stream",
     "text": [
      "data imported successfully\n"
     ]
    },
    {
     "data": {
      "text/html": [
       "<div>\n",
       "<style scoped>\n",
       "    .dataframe tbody tr th:only-of-type {\n",
       "        vertical-align: middle;\n",
       "    }\n",
       "\n",
       "    .dataframe tbody tr th {\n",
       "        vertical-align: top;\n",
       "    }\n",
       "\n",
       "    .dataframe thead th {\n",
       "        text-align: right;\n",
       "    }\n",
       "</style>\n",
       "<table border=\"1\" class=\"dataframe\">\n",
       "  <thead>\n",
       "    <tr style=\"text-align: right;\">\n",
       "      <th></th>\n",
       "      <th>Hours</th>\n",
       "      <th>Scores</th>\n",
       "    </tr>\n",
       "  </thead>\n",
       "  <tbody>\n",
       "    <tr>\n",
       "      <th>0</th>\n",
       "      <td>2.5</td>\n",
       "      <td>21</td>\n",
       "    </tr>\n",
       "    <tr>\n",
       "      <th>1</th>\n",
       "      <td>5.1</td>\n",
       "      <td>47</td>\n",
       "    </tr>\n",
       "    <tr>\n",
       "      <th>2</th>\n",
       "      <td>3.2</td>\n",
       "      <td>27</td>\n",
       "    </tr>\n",
       "    <tr>\n",
       "      <th>3</th>\n",
       "      <td>8.5</td>\n",
       "      <td>75</td>\n",
       "    </tr>\n",
       "    <tr>\n",
       "      <th>4</th>\n",
       "      <td>3.5</td>\n",
       "      <td>30</td>\n",
       "    </tr>\n",
       "    <tr>\n",
       "      <th>5</th>\n",
       "      <td>1.5</td>\n",
       "      <td>20</td>\n",
       "    </tr>\n",
       "    <tr>\n",
       "      <th>6</th>\n",
       "      <td>9.2</td>\n",
       "      <td>88</td>\n",
       "    </tr>\n",
       "    <tr>\n",
       "      <th>7</th>\n",
       "      <td>5.5</td>\n",
       "      <td>60</td>\n",
       "    </tr>\n",
       "    <tr>\n",
       "      <th>8</th>\n",
       "      <td>8.3</td>\n",
       "      <td>81</td>\n",
       "    </tr>\n",
       "    <tr>\n",
       "      <th>9</th>\n",
       "      <td>2.7</td>\n",
       "      <td>25</td>\n",
       "    </tr>\n",
       "    <tr>\n",
       "      <th>10</th>\n",
       "      <td>7.7</td>\n",
       "      <td>85</td>\n",
       "    </tr>\n",
       "    <tr>\n",
       "      <th>11</th>\n",
       "      <td>5.9</td>\n",
       "      <td>62</td>\n",
       "    </tr>\n",
       "    <tr>\n",
       "      <th>12</th>\n",
       "      <td>4.5</td>\n",
       "      <td>41</td>\n",
       "    </tr>\n",
       "    <tr>\n",
       "      <th>13</th>\n",
       "      <td>3.3</td>\n",
       "      <td>42</td>\n",
       "    </tr>\n",
       "    <tr>\n",
       "      <th>14</th>\n",
       "      <td>1.1</td>\n",
       "      <td>17</td>\n",
       "    </tr>\n",
       "    <tr>\n",
       "      <th>15</th>\n",
       "      <td>8.9</td>\n",
       "      <td>95</td>\n",
       "    </tr>\n",
       "    <tr>\n",
       "      <th>16</th>\n",
       "      <td>2.5</td>\n",
       "      <td>30</td>\n",
       "    </tr>\n",
       "    <tr>\n",
       "      <th>17</th>\n",
       "      <td>1.9</td>\n",
       "      <td>24</td>\n",
       "    </tr>\n",
       "    <tr>\n",
       "      <th>18</th>\n",
       "      <td>6.1</td>\n",
       "      <td>67</td>\n",
       "    </tr>\n",
       "    <tr>\n",
       "      <th>19</th>\n",
       "      <td>7.4</td>\n",
       "      <td>69</td>\n",
       "    </tr>\n",
       "    <tr>\n",
       "      <th>20</th>\n",
       "      <td>2.7</td>\n",
       "      <td>30</td>\n",
       "    </tr>\n",
       "    <tr>\n",
       "      <th>21</th>\n",
       "      <td>4.8</td>\n",
       "      <td>54</td>\n",
       "    </tr>\n",
       "    <tr>\n",
       "      <th>22</th>\n",
       "      <td>3.8</td>\n",
       "      <td>35</td>\n",
       "    </tr>\n",
       "    <tr>\n",
       "      <th>23</th>\n",
       "      <td>6.9</td>\n",
       "      <td>76</td>\n",
       "    </tr>\n",
       "    <tr>\n",
       "      <th>24</th>\n",
       "      <td>7.8</td>\n",
       "      <td>86</td>\n",
       "    </tr>\n",
       "  </tbody>\n",
       "</table>\n",
       "</div>"
      ],
      "text/plain": [
       "    Hours  Scores\n",
       "0     2.5      21\n",
       "1     5.1      47\n",
       "2     3.2      27\n",
       "3     8.5      75\n",
       "4     3.5      30\n",
       "5     1.5      20\n",
       "6     9.2      88\n",
       "7     5.5      60\n",
       "8     8.3      81\n",
       "9     2.7      25\n",
       "10    7.7      85\n",
       "11    5.9      62\n",
       "12    4.5      41\n",
       "13    3.3      42\n",
       "14    1.1      17\n",
       "15    8.9      95\n",
       "16    2.5      30\n",
       "17    1.9      24\n",
       "18    6.1      67\n",
       "19    7.4      69\n",
       "20    2.7      30\n",
       "21    4.8      54\n",
       "22    3.8      35\n",
       "23    6.9      76\n",
       "24    7.8      86"
      ]
     },
     "execution_count": 3,
     "metadata": {},
     "output_type": "execute_result"
    }
   ],
   "source": [
    "# Reading data from remote link\n",
    "data=\"http://bit.ly/w-data\"\n",
    "a_data=pd.read_csv(data) #actual data\n",
    "print(\"data imported successfully\")\n",
    "a_data.head(25)"
   ]
  },
  {
   "cell_type": "code",
   "execution_count": 4,
   "id": "48018aa3",
   "metadata": {},
   "outputs": [
    {
     "data": {
      "image/png": "[encoded data removed]",
      "text/plain": [
       "<Figure size 432x288 with 1 Axes>"
      ]
     },
     "metadata": {
      "needs_background": "light"
     },
     "output_type": "display_data"
    }
   ],
   "source": [
    "#Plotting the given data on 2D graph to check the relationship between data mannually if we can find any relation\n",
    "a_data.plot(x=\"Hours\",y=\"Scores\",style=\"o\" )\n",
    "plt.title(\"Hours vs Percentage\")# giving title to graph\n",
    "plt.xlabel(\"Hours\") # labelling X-axis\n",
    "plt.ylabel(\"Percentage scored\")# labeling y-axis\n",
    "plt.show()"
   ]
  },
  {
   "cell_type": "markdown",
   "id": "aa96851e",
   "metadata": {},
   "source": [
    "From this graph we can see that there is linear relation between two variable"
   ]
  },
  {
   "cell_type": "code",
   "execution_count": 5,
   "id": "f18439d7",
   "metadata": {},
   "outputs": [
    {
     "name": "stdout",
     "output_type": "stream",
     "text": [
      "[[2.5]\n",
      " [5.1]\n",
      " [3.2]\n",
      " [8.5]\n",
      " [3.5]\n",
      " [1.5]\n",
      " [9.2]\n",
      " [5.5]\n",
      " [8.3]\n",
      " [2.7]\n",
      " [7.7]\n",
      " [5.9]\n",
      " [4.5]\n",
      " [3.3]\n",
      " [1.1]\n",
      " [8.9]\n",
      " [2.5]\n",
      " [1.9]\n",
      " [6.1]\n",
      " [7.4]\n",
      " [2.7]\n",
      " [4.8]\n",
      " [3.8]\n",
      " [6.9]\n",
      " [7.8]]\n",
      "[21 47 27 75 30 20 88 60 81 25 85 62 41 42 17 95 30 24 67 69 30 54 35 76\n",
      " 86]\n"
     ]
    },
    {
     "data": {
      "text/plain": [
       "25"
      ]
     },
     "execution_count": 5,
     "metadata": {},
     "output_type": "execute_result"
    }
   ],
   "source": [
    "# Dividing the data into attributes(input) and labels(output)\n",
    "x= a_data.iloc[:,:-1].values# independent variable (hours)\n",
    "y= a_data.iloc[:,1].values# dependent variables(percentage)\n",
    "print(x)\n",
    "print(y)\n",
    "len(x)"
   ]
  },
  {
   "cell_type": "markdown",
   "id": "65e9c0fa",
   "metadata": {},
   "source": [
    "#### As we have divide our data into attributes and labels .Now we will split the data into test set and train set with the help of builtin function train_text_split() method."
   ]
  },
  {
   "cell_type": "code",
   "execution_count": 6,
   "id": "f51a85d1",
   "metadata": {},
   "outputs": [
    {
     "data": {
      "text/plain": [
       "20"
      ]
     },
     "execution_count": 6,
     "metadata": {},
     "output_type": "execute_result"
    }
   ],
   "source": [
    "# will use sklearn.model_selection package for further process\n",
    "from sklearn.model_selection import train_test_split\n",
    "x_train,x_test,y_train,y_test = train_test_split(x,y,test_size=0.2, random_state=0)\n",
    "len(x) \n",
    "len(x_train)# length of training set"
   ]
  },
  {
   "cell_type": "markdown",
   "id": "5ea1ba80",
   "metadata": {},
   "source": [
    "#### We have splited the data into two sets .One is training set which we use to train our algorithm and the second is test set which we use to predict the value and measure the errror between actual and predicted value. \n",
    "##### Now our next step will be to train our regression algorithm"
   ]
  },
  {
   "cell_type": "code",
   "execution_count": 7,
   "id": "382b4d12",
   "metadata": {},
   "outputs": [
    {
     "name": "stdout",
     "output_type": "stream",
     "text": [
      "LinearRegression()\n",
      "Training complete.\n"
     ]
    }
   ],
   "source": [
    "from sklearn.linear_model import LinearRegression\n",
    "regressor = LinearRegression()  \n",
    "regressor.fit(x_train, y_train) # finding best fitting of line\n",
    "print(regressor.fit(x_train, y_train) )\n",
    "print(\"Training complete.\")"
   ]
  },
  {
   "cell_type": "markdown",
   "id": "cb8f6a2f",
   "metadata": {},
   "source": [
    "#### As we have train our data now we will plot our regression line and also scatter plot of given data simultaneously to check the difference between actual score and the estimated score mannually."
   ]
  },
  {
   "cell_type": "code",
   "execution_count": 8,
   "id": "75fd8e11",
   "metadata": {},
   "outputs": [
    {
     "data": {
      "image/png": "[encoded data removed]",
      "text/plain": [
       "<Figure size 432x288 with 1 Axes>"
      ]
     },
     "metadata": {
      "needs_background": "light"
     },
     "output_type": "display_data"
    },
    {
     "name": "stdout",
     "output_type": "stream",
     "text": [
      "Here dots representeing actual values and line is representing the predicted value \n"
     ]
    }
   ],
   "source": [
    "#defining the linear regression line\n",
    "line= regressor.coef_*x+regressor.intercept_\n",
    "plt.scatter(x,y,label=\"actual score\") # scatter plot of actual data\n",
    "plt.plot(x,line,label=\"predicted score\") # line plot\n",
    "plt.xlabel(\"Hours\")\n",
    "plt.ylabel(\"Score\")\n",
    "plt.title(\"Hours vs Percentage of students\")\n",
    "plt.show()\n",
    "print(\"Here dots representeing actual values and line is representing the predicted value \")"
   ]
  },
  {
   "cell_type": "markdown",
   "id": "f6e6f766",
   "metadata": {},
   "source": [
    "### Now we will predict the percentage of students based on the number of study hours and see the differnce between actual and predicted values in numeric form"
   ]
  },
  {
   "cell_type": "code",
   "execution_count": 9,
   "id": "a4203dc2",
   "metadata": {},
   "outputs": [
    {
     "name": "stdout",
     "output_type": "stream",
     "text": [
      "[[1.5]\n",
      " [3.2]\n",
      " [7.4]\n",
      " [2.5]\n",
      " [5.9]]\n",
      "[20 27 69 30 62]\n",
      "[16.88414476 33.73226078 75.357018   26.79480124 60.49103328]\n"
     ]
    }
   ],
   "source": [
    "\n",
    "# we will use testing data for our prediction\n",
    "print(x_test) # hours\n",
    "print(y_test) # Actual Score\n",
    "y_pred= regressor.predict(x_test)# Predicted Score\n",
    "print(y_pred)"
   ]
  },
  {
   "cell_type": "code",
   "execution_count": 10,
   "id": "db37785c",
   "metadata": {},
   "outputs": [
    {
     "data": {
      "text/html": [
       "<div>\n",
       "<style scoped>\n",
       "    .dataframe tbody tr th:only-of-type {\n",
       "        vertical-align: middle;\n",
       "    }\n",
       "\n",
       "    .dataframe tbody tr th {\n",
       "        vertical-align: top;\n",
       "    }\n",
       "\n",
       "    .dataframe thead th {\n",
       "        text-align: right;\n",
       "    }\n",
       "</style>\n",
       "<table border=\"1\" class=\"dataframe\">\n",
       "  <thead>\n",
       "    <tr style=\"text-align: right;\">\n",
       "      <th></th>\n",
       "      <th>Actual</th>\n",
       "      <th>Predicted</th>\n",
       "    </tr>\n",
       "  </thead>\n",
       "  <tbody>\n",
       "    <tr>\n",
       "      <th>0</th>\n",
       "      <td>20</td>\n",
       "      <td>16.884145</td>\n",
       "    </tr>\n",
       "    <tr>\n",
       "      <th>1</th>\n",
       "      <td>27</td>\n",
       "      <td>33.732261</td>\n",
       "    </tr>\n",
       "    <tr>\n",
       "      <th>2</th>\n",
       "      <td>69</td>\n",
       "      <td>75.357018</td>\n",
       "    </tr>\n",
       "    <tr>\n",
       "      <th>3</th>\n",
       "      <td>30</td>\n",
       "      <td>26.794801</td>\n",
       "    </tr>\n",
       "    <tr>\n",
       "      <th>4</th>\n",
       "      <td>62</td>\n",
       "      <td>60.491033</td>\n",
       "    </tr>\n",
       "  </tbody>\n",
       "</table>\n",
       "</div>"
      ],
      "text/plain": [
       "   Actual  Predicted\n",
       "0      20  16.884145\n",
       "1      27  33.732261\n",
       "2      69  75.357018\n",
       "3      30  26.794801\n",
       "4      62  60.491033"
      ]
     },
     "execution_count": 10,
     "metadata": {},
     "output_type": "execute_result"
    }
   ],
   "source": [
    "# creating data frame in which one column is actual score and second is predicted score\n",
    "df=pd.DataFrame({\"Actual\":y_test,\"Predicted\":y_pred}) \n",
    "df.head()"
   ]
  },
  {
   "cell_type": "markdown",
   "id": "f7d30504",
   "metadata": {},
   "source": [
    "### Predicting score of student studies fotr 9.25 hrs/day"
   ]
  },
  {
   "cell_type": "code",
   "execution_count": 12,
   "id": "ea97a313",
   "metadata": {},
   "outputs": [
    {
     "name": "stdout",
     "output_type": "stream",
     "text": [
      "No of Hours = [[9.25]]\n",
      "Predicted Score =93.69173248737538\n"
     ]
    }
   ],
   "source": [
    "hours =[[9.25]]\n",
    "pred_score = regressor.predict(hours)\n",
    "print(\"No of Hours = {}\".format(hours) )\n",
    "print(\"Predicted Score ={}\".format(pred_score[0]) )"
   ]
  },
  {
   "cell_type": "markdown",
   "id": "2e992799",
   "metadata": {},
   "source": [
    "## Evaluating the Model"
   ]
  },
  {
   "cell_type": "markdown",
   "id": "aa42ae5a",
   "metadata": {},
   "source": [
    "Now we will find the error to check how well linear algorithm performing on this  data set. we will find mean sqare error"
   ]
  },
  {
   "cell_type": "code",
   "execution_count": 52,
   "id": "8afeb566",
   "metadata": {},
   "outputs": [
    {
     "name": "stdout",
     "output_type": "stream",
     "text": [
      "Mean Absolute Error: 4.183859899002975\n"
     ]
    }
   ],
   "source": [
    "from sklearn import metrics  \n",
    "print('Mean Absolute Error:', \n",
    "      metrics.mean_absolute_error(y_test, y_pred)) "
   ]
  },
  {
   "cell_type": "markdown",
   "id": "03bf0de0",
   "metadata": {},
   "source": [
    "### TASK COMPLETED"
   ]
  }
 ],
 "metadata": {
  "kernelspec": {
   "display_name": "Python 3 (ipykernel)",
   "language": "python",
   "name": "python3"
  },
  "language_info": {
   "codemirror_mode": {
    "name": "ipython",
    "version": 3
   },
   "file_extension": ".py",
   "mimetype": "text/x-python",
   "name": "python",
   "nbconvert_exporter": "python",
   "pygments_lexer": "ipython3",
   "version": "3.9.7"
  }
 },
 "nbformat": 4,
 "nbformat_minor": 5
}
